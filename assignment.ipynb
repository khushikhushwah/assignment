{
 "cells": [
  {
   "cell_type": "code",
   "execution_count": 1,
   "id": "19eb9ee7-7c9d-4b58-a693-133793bdbb0b",
   "metadata": {},
   "outputs": [],
   "source": [
    "import numpy as np \n",
    "import pandas as pd"
   ]
  },
  {
   "cell_type": "code",
   "execution_count": 3,
   "id": "2c69eaa9-1b3b-44f1-8a6e-b4df3967eecf",
   "metadata": {},
   "outputs": [],
   "source": [
    "data = {\n",
    "    'Year': [2021, 2021, 2021, 2021, 2022, 2022, 2022, 2022],\n",
    "    'Quarter': ['Q1', 'Q2', 'Q3', 'Q4', 'Q1', 'Q2', 'Q3', 'Q4'],\n",
    "    'Sales_Online': [20000, 25000, 23000, 24000, 26000, 27000, 28000, 29000],\n",
    "    'Sales_InStore': [30000, 32000, 31000, 33000, 34000, 35000, 36000, 37000],\n",
    "    'Expenses_Online': [15000, 16000, 15500, 16500, 17000, 17500, 18000, 18500],\n",
    "    'Expenses_InStore': [20000, 21000, 20500, 21500, 22000, 22500, 23000, 23500]\n",
    "}\n"
   ]
  },
  {
   "cell_type": "code",
   "execution_count": 5,
   "id": "e0625294-ba37-4b9d-aba8-392f605b0d76",
   "metadata": {},
   "outputs": [],
   "source": [
    "financial_data=pd.DataFrame(data)"
   ]
  },
  {
   "cell_type": "code",
   "execution_count": 7,
   "id": "6a03e2ec-0914-4178-95af-b7554036d68e",
   "metadata": {},
   "outputs": [
    {
     "data": {
      "text/html": [
       "<div>\n",
       "<style scoped>\n",
       "    .dataframe tbody tr th:only-of-type {\n",
       "        vertical-align: middle;\n",
       "    }\n",
       "\n",
       "    .dataframe tbody tr th {\n",
       "        vertical-align: top;\n",
       "    }\n",
       "\n",
       "    .dataframe thead th {\n",
       "        text-align: right;\n",
       "    }\n",
       "</style>\n",
       "<table border=\"1\" class=\"dataframe\">\n",
       "  <thead>\n",
       "    <tr style=\"text-align: right;\">\n",
       "      <th></th>\n",
       "      <th>Year</th>\n",
       "      <th>Quarter</th>\n",
       "      <th>Sales_Online</th>\n",
       "      <th>Sales_InStore</th>\n",
       "      <th>Expenses_Online</th>\n",
       "      <th>Expenses_InStore</th>\n",
       "    </tr>\n",
       "  </thead>\n",
       "  <tbody>\n",
       "    <tr>\n",
       "      <th>0</th>\n",
       "      <td>2021</td>\n",
       "      <td>Q1</td>\n",
       "      <td>20000</td>\n",
       "      <td>30000</td>\n",
       "      <td>15000</td>\n",
       "      <td>20000</td>\n",
       "    </tr>\n",
       "    <tr>\n",
       "      <th>1</th>\n",
       "      <td>2021</td>\n",
       "      <td>Q2</td>\n",
       "      <td>25000</td>\n",
       "      <td>32000</td>\n",
       "      <td>16000</td>\n",
       "      <td>21000</td>\n",
       "    </tr>\n",
       "    <tr>\n",
       "      <th>2</th>\n",
       "      <td>2021</td>\n",
       "      <td>Q3</td>\n",
       "      <td>23000</td>\n",
       "      <td>31000</td>\n",
       "      <td>15500</td>\n",
       "      <td>20500</td>\n",
       "    </tr>\n",
       "    <tr>\n",
       "      <th>3</th>\n",
       "      <td>2021</td>\n",
       "      <td>Q4</td>\n",
       "      <td>24000</td>\n",
       "      <td>33000</td>\n",
       "      <td>16500</td>\n",
       "      <td>21500</td>\n",
       "    </tr>\n",
       "    <tr>\n",
       "      <th>4</th>\n",
       "      <td>2022</td>\n",
       "      <td>Q1</td>\n",
       "      <td>26000</td>\n",
       "      <td>34000</td>\n",
       "      <td>17000</td>\n",
       "      <td>22000</td>\n",
       "    </tr>\n",
       "    <tr>\n",
       "      <th>5</th>\n",
       "      <td>2022</td>\n",
       "      <td>Q2</td>\n",
       "      <td>27000</td>\n",
       "      <td>35000</td>\n",
       "      <td>17500</td>\n",
       "      <td>22500</td>\n",
       "    </tr>\n",
       "    <tr>\n",
       "      <th>6</th>\n",
       "      <td>2022</td>\n",
       "      <td>Q3</td>\n",
       "      <td>28000</td>\n",
       "      <td>36000</td>\n",
       "      <td>18000</td>\n",
       "      <td>23000</td>\n",
       "    </tr>\n",
       "    <tr>\n",
       "      <th>7</th>\n",
       "      <td>2022</td>\n",
       "      <td>Q4</td>\n",
       "      <td>29000</td>\n",
       "      <td>37000</td>\n",
       "      <td>18500</td>\n",
       "      <td>23500</td>\n",
       "    </tr>\n",
       "  </tbody>\n",
       "</table>\n",
       "</div>"
      ],
      "text/plain": [
       "   Year Quarter  Sales_Online  Sales_InStore  Expenses_Online  \\\n",
       "0  2021      Q1         20000          30000            15000   \n",
       "1  2021      Q2         25000          32000            16000   \n",
       "2  2021      Q3         23000          31000            15500   \n",
       "3  2021      Q4         24000          33000            16500   \n",
       "4  2022      Q1         26000          34000            17000   \n",
       "5  2022      Q2         27000          35000            17500   \n",
       "6  2022      Q3         28000          36000            18000   \n",
       "7  2022      Q4         29000          37000            18500   \n",
       "\n",
       "   Expenses_InStore  \n",
       "0             20000  \n",
       "1             21000  \n",
       "2             20500  \n",
       "3             21500  \n",
       "4             22000  \n",
       "5             22500  \n",
       "6             23000  \n",
       "7             23500  "
      ]
     },
     "execution_count": 7,
     "metadata": {},
     "output_type": "execute_result"
    }
   ],
   "source": [
    "financial_data"
   ]
  },
  {
   "cell_type": "code",
   "execution_count": 11,
   "id": "8451a9ad-7f47-4abe-a5a0-3c9dcbc6a27c",
   "metadata": {},
   "outputs": [],
   "source": [
    "online_sales_q1_2022 = financial_data[(financial_data['Year'] == 2022) & (financial_data['Quarter'] == 'Q1')]['Sales_Online'].values[0]"
   ]
  },
  {
   "cell_type": "code",
   "execution_count": 13,
   "id": "c9aa8674-607a-4969-81a5-81bb203450f7",
   "metadata": {},
   "outputs": [
    {
     "data": {
      "text/plain": [
       "26000"
      ]
     },
     "execution_count": 13,
     "metadata": {},
     "output_type": "execute_result"
    }
   ],
   "source": [
    "online_sales_q1_2022"
   ]
  },
  {
   "cell_type": "code",
   "execution_count": 15,
   "id": "4bebe57a-66b1-434d-86d6-aa0ad8cf5258",
   "metadata": {},
   "outputs": [],
   "source": [
    "instore_expenses_q3_2021 = financial_data[(financial_data['Year'] == 2021) & (financial_data['Quarter'] == 'Q3')]['Expenses_InStore'].values[0]"
   ]
  },
  {
   "cell_type": "code",
   "execution_count": 17,
   "id": "283a0ea3-1fcf-4a57-8a13-35750c072cd3",
   "metadata": {},
   "outputs": [
    {
     "data": {
      "text/plain": [
       "20500"
      ]
     },
     "execution_count": 17,
     "metadata": {},
     "output_type": "execute_result"
    }
   ],
   "source": [
    "instore_expenses_q3_2021"
   ]
  },
  {
   "cell_type": "code",
   "execution_count": 19,
   "id": "d1de5a89-36d7-48f9-bcc0-b1de083f22be",
   "metadata": {},
   "outputs": [],
   "source": [
    "total_sales_q4_2021 = financial_data[(financial_data['Year'] == 2021) & (financial_data['Quarter'] == 'Q4')][['Sales_Online', 'Sales_InStore']].sum().sum()"
   ]
  },
  {
   "cell_type": "code",
   "execution_count": 21,
   "id": "0a4cdb3a-c6ed-4305-96a8-5ec6dfceb5b3",
   "metadata": {},
   "outputs": [
    {
     "data": {
      "text/plain": [
       "57000"
      ]
     },
     "execution_count": 21,
     "metadata": {},
     "output_type": "execute_result"
    }
   ],
   "source": [
    "total_sales_q4_2021"
   ]
  },
  {
   "cell_type": "code",
   "execution_count": 23,
   "id": "fa015409-feb9-4d8f-abc0-b855fdea26e1",
   "metadata": {},
   "outputs": [],
   "source": [
    "expenses_online_2022 = financial_data[financial_data['Year'] == 2022]['Expenses_Online'].sum()"
   ]
  },
  {
   "cell_type": "code",
   "execution_count": 25,
   "id": "7f77b756-632d-4f42-8316-8768cff0368a",
   "metadata": {},
   "outputs": [
    {
     "data": {
      "text/plain": [
       "71000"
      ]
     },
     "execution_count": 25,
     "metadata": {},
     "output_type": "execute_result"
    }
   ],
   "source": [
    "expenses_online_2022"
   ]
  },
  {
   "cell_type": "code",
   "execution_count": 27,
   "id": "97dca252-3b45-4ac2-8e50-3ac4bf609335",
   "metadata": {},
   "outputs": [],
   "source": [
    "sales_q2_2021 = financial_data[(financial_data['Year'] == 2021) & (financial_data['Quarter'] == 'Q2')][['Sales_Online', 'Sales_InStore']]"
   ]
  },
  {
   "cell_type": "code",
   "execution_count": 29,
   "id": "b0d2bcad-5371-4a1d-89f6-47c2f4999e19",
   "metadata": {},
   "outputs": [
    {
     "data": {
      "text/html": [
       "<div>\n",
       "<style scoped>\n",
       "    .dataframe tbody tr th:only-of-type {\n",
       "        vertical-align: middle;\n",
       "    }\n",
       "\n",
       "    .dataframe tbody tr th {\n",
       "        vertical-align: top;\n",
       "    }\n",
       "\n",
       "    .dataframe thead th {\n",
       "        text-align: right;\n",
       "    }\n",
       "</style>\n",
       "<table border=\"1\" class=\"dataframe\">\n",
       "  <thead>\n",
       "    <tr style=\"text-align: right;\">\n",
       "      <th></th>\n",
       "      <th>Sales_Online</th>\n",
       "      <th>Sales_InStore</th>\n",
       "    </tr>\n",
       "  </thead>\n",
       "  <tbody>\n",
       "    <tr>\n",
       "      <th>1</th>\n",
       "      <td>25000</td>\n",
       "      <td>32000</td>\n",
       "    </tr>\n",
       "  </tbody>\n",
       "</table>\n",
       "</div>"
      ],
      "text/plain": [
       "   Sales_Online  Sales_InStore\n",
       "1         25000          32000"
      ]
     },
     "execution_count": 29,
     "metadata": {},
     "output_type": "execute_result"
    }
   ],
   "source": [
    "sales_q2_2021"
   ]
  },
  {
   "cell_type": "code",
   "execution_count": 31,
   "id": "4c5467e0-239e-4b44-836d-33ce29b467b6",
   "metadata": {},
   "outputs": [],
   "source": [
    "max_expense_2022 = financial_data[financial_data['Year'] == 2022][['Expenses_Online', 'Expenses_InStore']].max().max()\n"
   ]
  },
  {
   "cell_type": "code",
   "execution_count": 33,
   "id": "90a6bba5-2345-4c00-b4f4-ab13777bc231",
   "metadata": {},
   "outputs": [
    {
     "data": {
      "text/plain": [
       "23500"
      ]
     },
     "execution_count": 33,
     "metadata": {},
     "output_type": "execute_result"
    }
   ],
   "source": [
    "max_expense_2022"
   ]
  },
  {
   "cell_type": "code",
   "execution_count": 41,
   "id": "17dbccd0-e4ae-4c0d-be77-82cdbdc71706",
   "metadata": {},
   "outputs": [
    {
     "data": {
      "text/plain": [
       "<bound method DataFrame.stack of    Year Quarter  Sales_Online  Sales_InStore  Expenses_Online  \\\n",
       "0  2021      Q1         20000          30000            15000   \n",
       "1  2021      Q2         25000          32000            16000   \n",
       "2  2021      Q3         23000          31000            15500   \n",
       "3  2021      Q4         24000          33000            16500   \n",
       "4  2022      Q1         26000          34000            17000   \n",
       "5  2022      Q2         27000          35000            17500   \n",
       "6  2022      Q3         28000          36000            18000   \n",
       "7  2022      Q4         29000          37000            18500   \n",
       "\n",
       "   Expenses_InStore  \n",
       "0             20000  \n",
       "1             21000  \n",
       "2             20500  \n",
       "3             21500  \n",
       "4             22000  \n",
       "5             22500  \n",
       "6             23000  \n",
       "7             23500  >"
      ]
     },
     "execution_count": 41,
     "metadata": {},
     "output_type": "execute_result"
    }
   ],
   "source": [
    "financial_data.stack"
   ]
  },
  {
   "cell_type": "code",
   "execution_count": 47,
   "id": "2a2a6b22-4507-4083-971b-f839df787332",
   "metadata": {},
   "outputs": [],
   "source": [
    "data = {\n",
    "    'Store': ['Store_A', 'Store_A', 'Store_A', 'Store_B', 'Store_B', 'Store_B', 'Store_C', 'Store_C', 'Store_C'],\n",
    "    'Product': ['Product_1', 'Product_2', 'Product_3', 'Product_1', 'Product_2', 'Product_3', 'Product_1', 'Product_2', 'Product_3'],\n",
    "    'Sales': [100, 150, 200, 110, 160, 210, 120, 170, 220]\n",
    "}\n",
    "df = pd.DataFrame(data)\n",
    "\n"
   ]
  },
  {
   "cell_type": "code",
   "execution_count": 49,
   "id": "d9eb3d83-e509-41e3-aa2b-6bc988b72b51",
   "metadata": {},
   "outputs": [],
   "source": [
    "stacked_df = df.set_index(['Store', 'Product']).stack().reset_index()\n",
    "stacked_df.columns = ['Store', 'Product', 'Metric', 'Value']"
   ]
  },
  {
   "cell_type": "code",
   "execution_count": 51,
   "id": "277a55a4-2bfd-4aee-b151-b77380109c54",
   "metadata": {},
   "outputs": [
    {
     "data": {
      "text/html": [
       "<div>\n",
       "<style scoped>\n",
       "    .dataframe tbody tr th:only-of-type {\n",
       "        vertical-align: middle;\n",
       "    }\n",
       "\n",
       "    .dataframe tbody tr th {\n",
       "        vertical-align: top;\n",
       "    }\n",
       "\n",
       "    .dataframe thead th {\n",
       "        text-align: right;\n",
       "    }\n",
       "</style>\n",
       "<table border=\"1\" class=\"dataframe\">\n",
       "  <thead>\n",
       "    <tr style=\"text-align: right;\">\n",
       "      <th></th>\n",
       "      <th>Store</th>\n",
       "      <th>Product</th>\n",
       "      <th>Metric</th>\n",
       "      <th>Value</th>\n",
       "    </tr>\n",
       "  </thead>\n",
       "  <tbody>\n",
       "    <tr>\n",
       "      <th>0</th>\n",
       "      <td>Store_A</td>\n",
       "      <td>Product_1</td>\n",
       "      <td>Sales</td>\n",
       "      <td>100</td>\n",
       "    </tr>\n",
       "    <tr>\n",
       "      <th>1</th>\n",
       "      <td>Store_A</td>\n",
       "      <td>Product_2</td>\n",
       "      <td>Sales</td>\n",
       "      <td>150</td>\n",
       "    </tr>\n",
       "    <tr>\n",
       "      <th>2</th>\n",
       "      <td>Store_A</td>\n",
       "      <td>Product_3</td>\n",
       "      <td>Sales</td>\n",
       "      <td>200</td>\n",
       "    </tr>\n",
       "    <tr>\n",
       "      <th>3</th>\n",
       "      <td>Store_B</td>\n",
       "      <td>Product_1</td>\n",
       "      <td>Sales</td>\n",
       "      <td>110</td>\n",
       "    </tr>\n",
       "    <tr>\n",
       "      <th>4</th>\n",
       "      <td>Store_B</td>\n",
       "      <td>Product_2</td>\n",
       "      <td>Sales</td>\n",
       "      <td>160</td>\n",
       "    </tr>\n",
       "    <tr>\n",
       "      <th>5</th>\n",
       "      <td>Store_B</td>\n",
       "      <td>Product_3</td>\n",
       "      <td>Sales</td>\n",
       "      <td>210</td>\n",
       "    </tr>\n",
       "    <tr>\n",
       "      <th>6</th>\n",
       "      <td>Store_C</td>\n",
       "      <td>Product_1</td>\n",
       "      <td>Sales</td>\n",
       "      <td>120</td>\n",
       "    </tr>\n",
       "    <tr>\n",
       "      <th>7</th>\n",
       "      <td>Store_C</td>\n",
       "      <td>Product_2</td>\n",
       "      <td>Sales</td>\n",
       "      <td>170</td>\n",
       "    </tr>\n",
       "    <tr>\n",
       "      <th>8</th>\n",
       "      <td>Store_C</td>\n",
       "      <td>Product_3</td>\n",
       "      <td>Sales</td>\n",
       "      <td>220</td>\n",
       "    </tr>\n",
       "  </tbody>\n",
       "</table>\n",
       "</div>"
      ],
      "text/plain": [
       "     Store    Product Metric  Value\n",
       "0  Store_A  Product_1  Sales    100\n",
       "1  Store_A  Product_2  Sales    150\n",
       "2  Store_A  Product_3  Sales    200\n",
       "3  Store_B  Product_1  Sales    110\n",
       "4  Store_B  Product_2  Sales    160\n",
       "5  Store_B  Product_3  Sales    210\n",
       "6  Store_C  Product_1  Sales    120\n",
       "7  Store_C  Product_2  Sales    170\n",
       "8  Store_C  Product_3  Sales    220"
      ]
     },
     "execution_count": 51,
     "metadata": {},
     "output_type": "execute_result"
    }
   ],
   "source": [
    "stacked_df"
   ]
  },
  {
   "cell_type": "code",
   "execution_count": 53,
   "id": "97612a3a-b849-4f7f-ac14-7b53530ff1a9",
   "metadata": {},
   "outputs": [
    {
     "data": {
      "text/html": [
       "<div>\n",
       "<style scoped>\n",
       "    .dataframe tbody tr th:only-of-type {\n",
       "        vertical-align: middle;\n",
       "    }\n",
       "\n",
       "    .dataframe tbody tr th {\n",
       "        vertical-align: top;\n",
       "    }\n",
       "\n",
       "    .dataframe thead tr th {\n",
       "        text-align: left;\n",
       "    }\n",
       "\n",
       "    .dataframe thead tr:last-of-type th {\n",
       "        text-align: right;\n",
       "    }\n",
       "</style>\n",
       "<table border=\"1\" class=\"dataframe\">\n",
       "  <thead>\n",
       "    <tr>\n",
       "      <th></th>\n",
       "      <th></th>\n",
       "      <th colspan=\"3\" halign=\"left\">Value</th>\n",
       "    </tr>\n",
       "    <tr>\n",
       "      <th></th>\n",
       "      <th>Store</th>\n",
       "      <th>Store_A</th>\n",
       "      <th>Store_B</th>\n",
       "      <th>Store_C</th>\n",
       "    </tr>\n",
       "    <tr>\n",
       "      <th>Product</th>\n",
       "      <th>Metric</th>\n",
       "      <th></th>\n",
       "      <th></th>\n",
       "      <th></th>\n",
       "    </tr>\n",
       "  </thead>\n",
       "  <tbody>\n",
       "    <tr>\n",
       "      <th>Product_1</th>\n",
       "      <th>Sales</th>\n",
       "      <td>100</td>\n",
       "      <td>110</td>\n",
       "      <td>120</td>\n",
       "    </tr>\n",
       "    <tr>\n",
       "      <th>Product_2</th>\n",
       "      <th>Sales</th>\n",
       "      <td>150</td>\n",
       "      <td>160</td>\n",
       "      <td>170</td>\n",
       "    </tr>\n",
       "    <tr>\n",
       "      <th>Product_3</th>\n",
       "      <th>Sales</th>\n",
       "      <td>200</td>\n",
       "      <td>210</td>\n",
       "      <td>220</td>\n",
       "    </tr>\n",
       "  </tbody>\n",
       "</table>\n",
       "</div>"
      ],
      "text/plain": [
       "                   Value                \n",
       "Store            Store_A Store_B Store_C\n",
       "Product   Metric                        \n",
       "Product_1 Sales      100     110     120\n",
       "Product_2 Sales      150     160     170\n",
       "Product_3 Sales      200     210     220"
      ]
     },
     "execution_count": 53,
     "metadata": {},
     "output_type": "execute_result"
    }
   ],
   "source": [
    "unstacked_df = stacked_df.set_index(['Store', 'Product', 'Metric']).unstack(level=0)\n",
    "unstacked_df"
   ]
  },
  {
   "cell_type": "code",
   "execution_count": 55,
   "id": "548ed2b9-173c-4e80-922b-27a4c4fa2734",
   "metadata": {},
   "outputs": [],
   "source": [
    "employee_data = {\n",
    "    'Department': ['HR', 'HR', 'IT', 'IT', 'Finance', 'Finance'],\n",
    "    'Role': ['Manager', 'Assistant', 'Manager', 'Developer', 'Manager', 'Analyst'],\n",
    "    'Employee': ['Alice', 'Bob', 'Charlie', 'David', 'Eve', 'Frank']\n",
    "}"
   ]
  },
  {
   "cell_type": "code",
   "execution_count": 57,
   "id": "9cb25f97-21a3-4274-8ad4-65c6084f4153",
   "metadata": {},
   "outputs": [
    {
     "data": {
      "text/html": [
       "<div>\n",
       "<style scoped>\n",
       "    .dataframe tbody tr th:only-of-type {\n",
       "        vertical-align: middle;\n",
       "    }\n",
       "\n",
       "    .dataframe tbody tr th {\n",
       "        vertical-align: top;\n",
       "    }\n",
       "\n",
       "    .dataframe thead th {\n",
       "        text-align: right;\n",
       "    }\n",
       "</style>\n",
       "<table border=\"1\" class=\"dataframe\">\n",
       "  <thead>\n",
       "    <tr style=\"text-align: right;\">\n",
       "      <th></th>\n",
       "      <th></th>\n",
       "      <th>Employee</th>\n",
       "    </tr>\n",
       "    <tr>\n",
       "      <th>Department</th>\n",
       "      <th>Role</th>\n",
       "      <th></th>\n",
       "    </tr>\n",
       "  </thead>\n",
       "  <tbody>\n",
       "    <tr>\n",
       "      <th rowspan=\"2\" valign=\"top\">HR</th>\n",
       "      <th>Manager</th>\n",
       "      <td>Alice</td>\n",
       "    </tr>\n",
       "    <tr>\n",
       "      <th>Assistant</th>\n",
       "      <td>Bob</td>\n",
       "    </tr>\n",
       "    <tr>\n",
       "      <th rowspan=\"2\" valign=\"top\">IT</th>\n",
       "      <th>Manager</th>\n",
       "      <td>Charlie</td>\n",
       "    </tr>\n",
       "    <tr>\n",
       "      <th>Developer</th>\n",
       "      <td>David</td>\n",
       "    </tr>\n",
       "    <tr>\n",
       "      <th rowspan=\"2\" valign=\"top\">Finance</th>\n",
       "      <th>Manager</th>\n",
       "      <td>Eve</td>\n",
       "    </tr>\n",
       "    <tr>\n",
       "      <th>Analyst</th>\n",
       "      <td>Frank</td>\n",
       "    </tr>\n",
       "  </tbody>\n",
       "</table>\n",
       "</div>"
      ],
      "text/plain": [
       "                     Employee\n",
       "Department Role              \n",
       "HR         Manager      Alice\n",
       "           Assistant      Bob\n",
       "IT         Manager    Charlie\n",
       "           Developer    David\n",
       "Finance    Manager        Eve\n",
       "           Analyst      Frank"
      ]
     },
     "execution_count": 57,
     "metadata": {},
     "output_type": "execute_result"
    }
   ],
   "source": [
    "employee_df = pd.DataFrame(employee_data)\n",
    "employee_df.set_index(['Department', 'Role'], inplace=True)\n",
    "employee_df"
   ]
  },
  {
   "cell_type": "code",
   "execution_count": 59,
   "id": "b39efbdb-a781-4630-9496-2a07ab0063c5",
   "metadata": {},
   "outputs": [
    {
     "data": {
      "text/html": [
       "<div>\n",
       "<style scoped>\n",
       "    .dataframe tbody tr th:only-of-type {\n",
       "        vertical-align: middle;\n",
       "    }\n",
       "\n",
       "    .dataframe tbody tr th {\n",
       "        vertical-align: top;\n",
       "    }\n",
       "\n",
       "    .dataframe thead th {\n",
       "        text-align: right;\n",
       "    }\n",
       "</style>\n",
       "<table border=\"1\" class=\"dataframe\">\n",
       "  <thead>\n",
       "    <tr style=\"text-align: right;\">\n",
       "      <th></th>\n",
       "      <th>Employee</th>\n",
       "    </tr>\n",
       "    <tr>\n",
       "      <th>Role</th>\n",
       "      <th></th>\n",
       "    </tr>\n",
       "  </thead>\n",
       "  <tbody>\n",
       "    <tr>\n",
       "      <th>Manager</th>\n",
       "      <td>Charlie</td>\n",
       "    </tr>\n",
       "    <tr>\n",
       "      <th>Developer</th>\n",
       "      <td>David</td>\n",
       "    </tr>\n",
       "  </tbody>\n",
       "</table>\n",
       "</div>"
      ],
      "text/plain": [
       "          Employee\n",
       "Role              \n",
       "Manager    Charlie\n",
       "Developer    David"
      ]
     },
     "execution_count": 59,
     "metadata": {},
     "output_type": "execute_result"
    }
   ],
   "source": [
    "it_employees = employee_df.loc['IT']\n",
    "it_employees"
   ]
  },
  {
   "cell_type": "code",
   "execution_count": 61,
   "id": "2a8e2c19-1f28-4a3b-8311-51593313e303",
   "metadata": {},
   "outputs": [],
   "source": [
    "grades_data = {\n",
    "    'Student': ['John', 'Alice', 'Bob', 'David'],\n",
    "    'Subject': ['Math', 'Math', 'Science', 'Science'],\n",
    "    'Grade': [88, 92, 85, 90]\n",
    "}"
   ]
  },
  {
   "cell_type": "code",
   "execution_count": 63,
   "id": "c525debe-ec95-4607-8dd3-a2ad648d57a4",
   "metadata": {},
   "outputs": [
    {
     "data": {
      "text/html": [
       "<div>\n",
       "<style scoped>\n",
       "    .dataframe tbody tr th:only-of-type {\n",
       "        vertical-align: middle;\n",
       "    }\n",
       "\n",
       "    .dataframe tbody tr th {\n",
       "        vertical-align: top;\n",
       "    }\n",
       "\n",
       "    .dataframe thead th {\n",
       "        text-align: right;\n",
       "    }\n",
       "</style>\n",
       "<table border=\"1\" class=\"dataframe\">\n",
       "  <thead>\n",
       "    <tr style=\"text-align: right;\">\n",
       "      <th></th>\n",
       "      <th>Student</th>\n",
       "      <th>Subject</th>\n",
       "      <th>Grade</th>\n",
       "    </tr>\n",
       "  </thead>\n",
       "  <tbody>\n",
       "    <tr>\n",
       "      <th>0</th>\n",
       "      <td>John</td>\n",
       "      <td>Math</td>\n",
       "      <td>88</td>\n",
       "    </tr>\n",
       "    <tr>\n",
       "      <th>1</th>\n",
       "      <td>Alice</td>\n",
       "      <td>Math</td>\n",
       "      <td>92</td>\n",
       "    </tr>\n",
       "    <tr>\n",
       "      <th>2</th>\n",
       "      <td>Bob</td>\n",
       "      <td>Science</td>\n",
       "      <td>85</td>\n",
       "    </tr>\n",
       "    <tr>\n",
       "      <th>3</th>\n",
       "      <td>David</td>\n",
       "      <td>Science</td>\n",
       "      <td>90</td>\n",
       "    </tr>\n",
       "  </tbody>\n",
       "</table>\n",
       "</div>"
      ],
      "text/plain": [
       "  Student  Subject  Grade\n",
       "0    John     Math     88\n",
       "1   Alice     Math     92\n",
       "2     Bob  Science     85\n",
       "3   David  Science     90"
      ]
     },
     "execution_count": 63,
     "metadata": {},
     "output_type": "execute_result"
    }
   ],
   "source": [
    "grades_df = pd.DataFrame(grades_data)\n",
    "sorted_grades_df = grades_df.sort_values(by=['Subject', 'Grade'])\n",
    "sorted_grades_df"
   ]
  },
  {
   "cell_type": "code",
   "execution_count": 65,
   "id": "94e5c7aa-3513-46d8-b488-680a3865d42b",
   "metadata": {},
   "outputs": [
    {
     "data": {
      "text/html": [
       "<div>\n",
       "<style scoped>\n",
       "    .dataframe tbody tr th:only-of-type {\n",
       "        vertical-align: middle;\n",
       "    }\n",
       "\n",
       "    .dataframe tbody tr th {\n",
       "        vertical-align: top;\n",
       "    }\n",
       "\n",
       "    .dataframe thead th {\n",
       "        text-align: right;\n",
       "    }\n",
       "</style>\n",
       "<table border=\"1\" class=\"dataframe\">\n",
       "  <thead>\n",
       "    <tr style=\"text-align: right;\">\n",
       "      <th></th>\n",
       "      <th>Student</th>\n",
       "      <th>Subject</th>\n",
       "      <th>Grade</th>\n",
       "    </tr>\n",
       "  </thead>\n",
       "  <tbody>\n",
       "    <tr>\n",
       "      <th>0</th>\n",
       "      <td>John</td>\n",
       "      <td>Math</td>\n",
       "      <td>88</td>\n",
       "    </tr>\n",
       "    <tr>\n",
       "      <th>1</th>\n",
       "      <td>Alice</td>\n",
       "      <td>Math</td>\n",
       "      <td>92</td>\n",
       "    </tr>\n",
       "    <tr>\n",
       "      <th>2</th>\n",
       "      <td>Bob</td>\n",
       "      <td>Science</td>\n",
       "      <td>85</td>\n",
       "    </tr>\n",
       "    <tr>\n",
       "      <th>3</th>\n",
       "      <td>David</td>\n",
       "      <td>Science</td>\n",
       "      <td>90</td>\n",
       "    </tr>\n",
       "  </tbody>\n",
       "</table>\n",
       "</div>"
      ],
      "text/plain": [
       "  Student  Subject  Grade\n",
       "0    John     Math     88\n",
       "1   Alice     Math     92\n",
       "2     Bob  Science     85\n",
       "3   David  Science     90"
      ]
     },
     "execution_count": 65,
     "metadata": {},
     "output_type": "execute_result"
    }
   ],
   "source": [
    "reset_sorted_grades_df = sorted_grades_df.reset_index(drop=True)\n",
    "reset_sorted_grades_df"
   ]
  },
  {
   "cell_type": "code",
   "execution_count": 69,
   "id": "16ccaf31-6c83-4cf4-b273-9834d277527a",
   "metadata": {},
   "outputs": [
    {
     "data": {
      "text/html": [
       "<div>\n",
       "<style scoped>\n",
       "    .dataframe tbody tr th:only-of-type {\n",
       "        vertical-align: middle;\n",
       "    }\n",
       "\n",
       "    .dataframe tbody tr th {\n",
       "        vertical-align: top;\n",
       "    }\n",
       "\n",
       "    .dataframe thead th {\n",
       "        text-align: right;\n",
       "    }\n",
       "</style>\n",
       "<table border=\"1\" class=\"dataframe\">\n",
       "  <thead>\n",
       "    <tr style=\"text-align: right;\">\n",
       "      <th></th>\n",
       "      <th>Temperature</th>\n",
       "      <th>Humidity</th>\n",
       "    </tr>\n",
       "    <tr>\n",
       "      <th>Date</th>\n",
       "      <th></th>\n",
       "      <th></th>\n",
       "    </tr>\n",
       "  </thead>\n",
       "  <tbody>\n",
       "    <tr>\n",
       "      <th>2023-01-01</th>\n",
       "      <td>5</td>\n",
       "      <td>80</td>\n",
       "    </tr>\n",
       "    <tr>\n",
       "      <th>2023-01-02</th>\n",
       "      <td>6</td>\n",
       "      <td>75</td>\n",
       "    </tr>\n",
       "    <tr>\n",
       "      <th>2023-01-03</th>\n",
       "      <td>7</td>\n",
       "      <td>78</td>\n",
       "    </tr>\n",
       "  </tbody>\n",
       "</table>\n",
       "</div>"
      ],
      "text/plain": [
       "            Temperature  Humidity\n",
       "Date                             \n",
       "2023-01-01            5        80\n",
       "2023-01-02            6        75\n",
       "2023-01-03            7        78"
      ]
     },
     "execution_count": 69,
     "metadata": {},
     "output_type": "execute_result"
    }
   ],
   "source": [
    "weather_data = {\n",
    "    'Date': ['2023-01-01', '2023-01-02', '2023-01-03'],\n",
    "    'Temperature': [5, 6, 7],\n",
    "    'Humidity': [80, 75, 78]\n",
    "}\n",
    "weather_df = pd.DataFrame(weather_data)\n",
    "weather_df.set_index('Date', inplace=True)\n",
    "weather_df"
   ]
  },
  {
   "cell_type": "code",
   "execution_count": 75,
   "id": "3453b84d-f034-4dd7-a150-917b243f06ad",
   "metadata": {},
   "outputs": [],
   "source": [
    "product_sales_data = {\n",
    "    ('Category_A', 'Product_1'): [100],\n",
    "    ('Category_A', 'Product_2'): [150],\n",
    "    ('Category_B', 'Product_1'): [200],\n",
    "    ('Category_B', 'Product_2'): [250]\n",
    "}"
   ]
  },
  {
   "cell_type": "code",
   "execution_count": 79,
   "id": "c25e74fc-6d15-4c8e-809a-1602db64d762",
   "metadata": {},
   "outputs": [],
   "source": [
    "product_sales_df = pd.DataFrame(product_sales_data)"
   ]
  },
  {
   "cell_type": "code",
   "execution_count": 81,
   "id": "59cb3b7d-d52d-4ebd-ad18-d475faeed03f",
   "metadata": {},
   "outputs": [
    {
     "name": "stderr",
     "output_type": "stream",
     "text": [
      "C:\\Users\\riyan\\AppData\\Local\\Temp\\ipykernel_23248\\652589773.py:1: FutureWarning: The previous implementation of stack is deprecated and will be removed in a future version of pandas. See the What's New notes for pandas 2.1.0 for details. Specify future_stack=True to adopt the new implementation and silence this warning.\n",
      "  flattened_product_sales_df = product_sales_df.stack().reset_index()\n"
     ]
    }
   ],
   "source": [
    "flattened_product_sales_df = product_sales_df.stack().reset_index()"
   ]
  },
  {
   "cell_type": "code",
   "execution_count": 85,
   "id": "cf48ee23-30d4-4680-a52a-ad13cf38c0ca",
   "metadata": {},
   "outputs": [
    {
     "name": "stderr",
     "output_type": "stream",
     "text": [
      "C:\\Users\\riyan\\AppData\\Local\\Temp\\ipykernel_23248\\1128012341.py:1: FutureWarning: The previous implementation of stack is deprecated and will be removed in a future version of pandas. See the What's New notes for pandas 2.1.0 for details. Specify future_stack=True to adopt the new implementation and silence this warning.\n",
      "  flattened_product_sales_df = product_sales_df.stack().reset_index()\n"
     ]
    }
   ],
   "source": [
    "flattened_product_sales_df = product_sales_df.stack().reset_index()\n"
   ]
  },
  {
   "cell_type": "code",
   "execution_count": 89,
   "id": "36c7731f-d344-402e-9d2f-5bf72febac30",
   "metadata": {},
   "outputs": [
    {
     "ename": "ValueError",
     "evalue": "Length mismatch: Expected axis has 4 elements, new values have 3 elements",
     "output_type": "error",
     "traceback": [
      "\u001b[1;31m---------------------------------------------------------------------------\u001b[0m",
      "\u001b[1;31mValueError\u001b[0m                                Traceback (most recent call last)",
      "Cell \u001b[1;32mIn[89], line 1\u001b[0m\n\u001b[1;32m----> 1\u001b[0m flattened_product_sales_df\u001b[38;5;241m.\u001b[39mcolumns \u001b[38;5;241m=\u001b[39m [\u001b[38;5;124m'\u001b[39m\u001b[38;5;124mIndex\u001b[39m\u001b[38;5;124m'\u001b[39m, \u001b[38;5;124m'\u001b[39m\u001b[38;5;124mCategory_Product\u001b[39m\u001b[38;5;124m'\u001b[39m, \u001b[38;5;124m'\u001b[39m\u001b[38;5;124mSales\u001b[39m\u001b[38;5;124m'\u001b[39m]\n\u001b[0;32m      2\u001b[0m flattened_product_sales_df\n",
      "File \u001b[1;32m~\\anaconda3\\Lib\\site-packages\\pandas\\core\\generic.py:6313\u001b[0m, in \u001b[0;36mNDFrame.__setattr__\u001b[1;34m(self, name, value)\u001b[0m\n\u001b[0;32m   6311\u001b[0m \u001b[38;5;28;01mtry\u001b[39;00m:\n\u001b[0;32m   6312\u001b[0m     \u001b[38;5;28mobject\u001b[39m\u001b[38;5;241m.\u001b[39m\u001b[38;5;21m__getattribute__\u001b[39m(\u001b[38;5;28mself\u001b[39m, name)\n\u001b[1;32m-> 6313\u001b[0m     \u001b[38;5;28;01mreturn\u001b[39;00m \u001b[38;5;28mobject\u001b[39m\u001b[38;5;241m.\u001b[39m\u001b[38;5;21m__setattr__\u001b[39m(\u001b[38;5;28mself\u001b[39m, name, value)\n\u001b[0;32m   6314\u001b[0m \u001b[38;5;28;01mexcept\u001b[39;00m \u001b[38;5;167;01mAttributeError\u001b[39;00m:\n\u001b[0;32m   6315\u001b[0m     \u001b[38;5;28;01mpass\u001b[39;00m\n",
      "File \u001b[1;32mproperties.pyx:69\u001b[0m, in \u001b[0;36mpandas._libs.properties.AxisProperty.__set__\u001b[1;34m()\u001b[0m\n",
      "File \u001b[1;32m~\\anaconda3\\Lib\\site-packages\\pandas\\core\\generic.py:814\u001b[0m, in \u001b[0;36mNDFrame._set_axis\u001b[1;34m(self, axis, labels)\u001b[0m\n\u001b[0;32m    809\u001b[0m \u001b[38;5;250m\u001b[39m\u001b[38;5;124;03m\"\"\"\u001b[39;00m\n\u001b[0;32m    810\u001b[0m \u001b[38;5;124;03mThis is called from the cython code when we set the `index` attribute\u001b[39;00m\n\u001b[0;32m    811\u001b[0m \u001b[38;5;124;03mdirectly, e.g. `series.index = [1, 2, 3]`.\u001b[39;00m\n\u001b[0;32m    812\u001b[0m \u001b[38;5;124;03m\"\"\"\u001b[39;00m\n\u001b[0;32m    813\u001b[0m labels \u001b[38;5;241m=\u001b[39m ensure_index(labels)\n\u001b[1;32m--> 814\u001b[0m \u001b[38;5;28mself\u001b[39m\u001b[38;5;241m.\u001b[39m_mgr\u001b[38;5;241m.\u001b[39mset_axis(axis, labels)\n\u001b[0;32m    815\u001b[0m \u001b[38;5;28mself\u001b[39m\u001b[38;5;241m.\u001b[39m_clear_item_cache()\n",
      "File \u001b[1;32m~\\anaconda3\\Lib\\site-packages\\pandas\\core\\internals\\managers.py:238\u001b[0m, in \u001b[0;36mBaseBlockManager.set_axis\u001b[1;34m(self, axis, new_labels)\u001b[0m\n\u001b[0;32m    236\u001b[0m \u001b[38;5;28;01mdef\u001b[39;00m \u001b[38;5;21mset_axis\u001b[39m(\u001b[38;5;28mself\u001b[39m, axis: AxisInt, new_labels: Index) \u001b[38;5;241m-\u001b[39m\u001b[38;5;241m>\u001b[39m \u001b[38;5;28;01mNone\u001b[39;00m:\n\u001b[0;32m    237\u001b[0m     \u001b[38;5;66;03m# Caller is responsible for ensuring we have an Index object.\u001b[39;00m\n\u001b[1;32m--> 238\u001b[0m     \u001b[38;5;28mself\u001b[39m\u001b[38;5;241m.\u001b[39m_validate_set_axis(axis, new_labels)\n\u001b[0;32m    239\u001b[0m     \u001b[38;5;28mself\u001b[39m\u001b[38;5;241m.\u001b[39maxes[axis] \u001b[38;5;241m=\u001b[39m new_labels\n",
      "File \u001b[1;32m~\\anaconda3\\Lib\\site-packages\\pandas\\core\\internals\\base.py:98\u001b[0m, in \u001b[0;36mDataManager._validate_set_axis\u001b[1;34m(self, axis, new_labels)\u001b[0m\n\u001b[0;32m     95\u001b[0m     \u001b[38;5;28;01mpass\u001b[39;00m\n\u001b[0;32m     97\u001b[0m \u001b[38;5;28;01melif\u001b[39;00m new_len \u001b[38;5;241m!=\u001b[39m old_len:\n\u001b[1;32m---> 98\u001b[0m     \u001b[38;5;28;01mraise\u001b[39;00m \u001b[38;5;167;01mValueError\u001b[39;00m(\n\u001b[0;32m     99\u001b[0m         \u001b[38;5;124mf\u001b[39m\u001b[38;5;124m\"\u001b[39m\u001b[38;5;124mLength mismatch: Expected axis has \u001b[39m\u001b[38;5;132;01m{\u001b[39;00mold_len\u001b[38;5;132;01m}\u001b[39;00m\u001b[38;5;124m elements, new \u001b[39m\u001b[38;5;124m\"\u001b[39m\n\u001b[0;32m    100\u001b[0m         \u001b[38;5;124mf\u001b[39m\u001b[38;5;124m\"\u001b[39m\u001b[38;5;124mvalues have \u001b[39m\u001b[38;5;132;01m{\u001b[39;00mnew_len\u001b[38;5;132;01m}\u001b[39;00m\u001b[38;5;124m elements\u001b[39m\u001b[38;5;124m\"\u001b[39m\n\u001b[0;32m    101\u001b[0m     )\n",
      "\u001b[1;31mValueError\u001b[0m: Length mismatch: Expected axis has 4 elements, new values have 3 elements"
     ]
    }
   ],
   "source": [
    "flattened_product_sales_df.columns = ['Index', 'Category_Product', 'Sales']\n",
    "flattened_product_sales_df"
   ]
  },
  {
   "cell_type": "code",
   "execution_count": 91,
   "id": "07b162f7-1f10-4328-96f5-ce8c1ecab997",
   "metadata": {},
   "outputs": [],
   "source": [
    "product_data = {\n",
    "    ('Category_A', 'Product_1'): [100, 110],\n",
    "    ('Category_A', 'Product_2'): [150, 160],\n",
    "    ('Category_B', 'Product_1'): [200, 210],\n",
    "    ('Category_B', 'Product_2'): [250, 260]\n",
    "}"
   ]
  },
  {
   "cell_type": "code",
   "execution_count": 93,
   "id": "09fd1f32-ae1d-4cd8-a1cc-2ad8e52e3cd9",
   "metadata": {},
   "outputs": [],
   "source": [
    "product_df = pd.DataFrame(product_data)\n"
   ]
  },
  {
   "cell_type": "code",
   "execution_count": 95,
   "id": "822ff676-7786-4309-a430-aaed4043735c",
   "metadata": {},
   "outputs": [],
   "source": [
    "product_df.columns.names = ['Category', 'Product']\n"
   ]
  },
  {
   "cell_type": "code",
   "execution_count": 97,
   "id": "cec253f1-8b51-4b03-9f49-1aad18d897fe",
   "metadata": {},
   "outputs": [],
   "source": [
    "average_product_df = product_df.mean()\n"
   ]
  },
  {
   "cell_type": "code",
   "execution_count": 99,
   "id": "46b49205-46b2-4eae-b234-6c9dcbceff3b",
   "metadata": {},
   "outputs": [
    {
     "data": {
      "text/plain": [
       "Category    Product  \n",
       "Category_A  Product_1    105.0\n",
       "            Product_2    155.0\n",
       "Category_B  Product_1    205.0\n",
       "            Product_2    255.0\n",
       "dtype: float64"
      ]
     },
     "execution_count": 99,
     "metadata": {},
     "output_type": "execute_result"
    }
   ],
   "source": [
    "average_product_df\n"
   ]
  },
  {
   "cell_type": "code",
   "execution_count": null,
   "id": "c77aa296-697a-442b-a963-d23e25ce1b1d",
   "metadata": {},
   "outputs": [],
   "source": []
  }
 ],
 "metadata": {
  "kernelspec": {
   "display_name": "Python 3 (ipykernel)",
   "language": "python",
   "name": "python3"
  },
  "language_info": {
   "codemirror_mode": {
    "name": "ipython",
    "version": 3
   },
   "file_extension": ".py",
   "mimetype": "text/x-python",
   "name": "python",
   "nbconvert_exporter": "python",
   "pygments_lexer": "ipython3",
   "version": "3.12.4"
  }
 },
 "nbformat": 4,
 "nbformat_minor": 5
}
